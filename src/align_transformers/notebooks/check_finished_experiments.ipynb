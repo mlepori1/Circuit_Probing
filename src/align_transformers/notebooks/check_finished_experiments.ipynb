{
 "cells": [
  {
   "cell_type": "markdown",
   "id": "d794a8e4",
   "metadata": {},
   "source": [
    "This is just a helper to know how many unfinished experiments you have since scaling the experiments up will encounter a lot of setup issues."
   ]
  },
  {
   "cell_type": "code",
   "execution_count": null,
   "id": "fac25590",
   "metadata": {},
   "outputs": [],
   "source": [
    "import os\n",
    "for seed in [42, 66, 77]:\n",
    "    count = 0\n",
    "    for task_name in [\n",
    "        \"pricing_tag_lb\", \n",
    "        \"pricing_tag_lub\", \n",
    "        \"pricing_tag_mid_diff\", \n",
    "        \"pricing_tag_bracket\", \n",
    "        \"pricing_tag_fixed\"\n",
    "    ]:\n",
    "        for aligning_layer_n in [0, 5, 10, 15, 20, 25, 30]:\n",
    "            for token_idx in [69, 70, 71, 72, 73, 74, 75, 76, 77, 78, 79, 80, 81]:\n",
    "                run_name = f\"alpaca-7B.task.{task_name}.\"\\\n",
    "                           f\"seed.{seed}.intl.{aligning_layer_n}.intr.{token_idx}.\"\\\n",
    "                           f\"{token_idx+1}\"\n",
    "                file_path = os.path.join(\"../results_alpaca-7b\", run_name, \"pytorch-rotate-last.bin\")\n",
    "                if not os.path.isfile(file_path):\n",
    "                    print(run_name)\n",
    "                    count += 1\n",
    "    print(\"# unfinished experiments:\", count)"
   ]
  }
 ],
 "metadata": {
  "kernelspec": {
   "display_name": "Python 3 (ipykernel)",
   "language": "python",
   "name": "python3"
  },
  "language_info": {
   "codemirror_mode": {
    "name": "ipython",
    "version": 3
   },
   "file_extension": ".py",
   "mimetype": "text/x-python",
   "name": "python",
   "nbconvert_exporter": "python",
   "pygments_lexer": "ipython3",
   "version": "3.10.11"
  }
 },
 "nbformat": 4,
 "nbformat_minor": 5
}
