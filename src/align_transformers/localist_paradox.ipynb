{
 "cells": [
  {
   "cell_type": "markdown",
   "id": "c75f2ed9",
   "metadata": {},
   "source": [
    "#### Enable Boundless DAS to Learn Equivalent Permutation Matrix\n",
    "\n",
    "This document along with some examples tries to explain why vanilla Boundless DAS may be pruned to do redundant rotation in the case where the standard basis has compact concept-aligned axis (axes).\n",
    "\n",
    "We propose a helpful solution to potentially avoid this with a little trick in optimization. This is not guaranteed to solve the problem entirely. We leave this for future research on other ways to solve this issue."
   ]
  },
  {
   "cell_type": "code",
   "execution_count": 186,
   "id": "9aee9057",
   "metadata": {},
   "outputs": [],
   "source": [
    "# TODO"
   ]
  }
 ],
 "metadata": {
  "kernelspec": {
   "display_name": "Python 3 (ipykernel)",
   "language": "python",
   "name": "python3"
  },
  "language_info": {
   "codemirror_mode": {
    "name": "ipython",
    "version": 3
   },
   "file_extension": ".py",
   "mimetype": "text/x-python",
   "name": "python",
   "nbconvert_exporter": "python",
   "pygments_lexer": "ipython3",
   "version": "3.9.0"
  }
 },
 "nbformat": 4,
 "nbformat_minor": 5
}
