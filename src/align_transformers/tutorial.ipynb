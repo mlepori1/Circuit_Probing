{
 "cells": [
  {
   "cell_type": "markdown",
   "id": "e1038d2d",
   "metadata": {},
   "source": [
    "# Tutorial for Boundless DAS (v1.0)\n",
    "\n",
    "Author: Zhengxuan Wu (wuzhengx@stanford.edu)  \n",
    "Last Update: 06/17/2023\n",
    "\n",
    "## *Setups and Analysis, Federated Model Steering and Alignment Sharing*\n",
    "\n",
    "### Introduction\n",
    "We notice that we used an internal version (Stanford personales only) of Alpaca-7B model in the paper, which is not publicly avaliable. This greatly reduces the reproducibility of this paper. We thus provide this script to fetch an example model from huggingface model hub, and setup the training environment + verification of a single datapoint. \n",
    "\n",
    "Note that we do not hookup this script for our training script to that you can load specialized models later on.\n",
    "\n",
    "### What does this file cover?\n",
    "- Download a HF model.\n",
    "- Cast it into an alignable version (without any processing, simply downcasting).\n",
    "- Reproduce one example from the paper about boundless DAS training.\n",
    "- **A guide to share rotation matrix with others.**"
   ]
  },
  {
   "cell_type": "code",
   "execution_count": 1,
   "id": "2de93390",
   "metadata": {},
   "outputs": [],
   "source": [
    "from transformers import (\n",
    "    set_seed,\n",
    "    AutoConfig,\n",
    "    get_linear_schedule_with_warmup,\n",
    "    AutoTokenizer,\n",
    "    AutoModelForCausalLM\n",
    ")\n",
    "import seaborn as sns\n",
    "from datasets import Dataset\n",
    "import os, random, argparse, sys, torch\n",
    "from models.configuration_alignable_model import AlignableLlamaConfig\n",
    "from counterfactual_datasets.price_tagging_game import factual_sampler, bound_alignment_sampler, lower_bound_alignment_example_sampler\n",
    "from trainer import Aligner, CACHE_DIR\n",
    "import counterfactual_datasets.price_tagging_game as price_tagging_game\n",
    "from torch.utils.data import DataLoader, SequentialSampler\n",
    "from models.modelings_alignable import AutoAlignableModel\n",
    "\n",
    "from transformers.utils import logging\n",
    "logging.set_verbosity_info()\n",
    "logger = logging.get_logger(\"transformers\")"
   ]
  },
  {
   "cell_type": "markdown",
   "id": "b3340897",
   "metadata": {},
   "source": [
    "#### Step 1: Load a HF model, Verify Its Task Performance, and Save It in the Disk for Alignment\n",
    "This is **super important** that is verifying the task performance! Sometimes, a little bug in the tokenizer (e.g., how SOS and EOS tokens are formulated) can largely change your expectation in performance. This is simply as the result of supervised tuning."
   ]
  },
  {
   "cell_type": "code",
   "execution_count": null,
   "id": "a3b7d26d",
   "metadata": {},
   "outputs": [],
   "source": [
    "RUN_ONCE_ALREADY = True"
   ]
  },
  {
   "cell_type": "code",
   "execution_count": 20,
   "id": "c034c6f5",
   "metadata": {},
   "outputs": [
    {
     "name": "stderr",
     "output_type": "stream",
     "text": [
      "100%|█████████████████████████████████████████████████████████████████████████████████████████████████████████████████████████████████████████| 625/625 [00:42<00:00, 14.72it/s]"
     ]
    },
    {
     "name": "stdout",
     "output_type": "stream",
     "text": [
      "[WARNING: THIS NEEDS TO BE GOOD!] prealign task accuracy: 0.92\n"
     ]
    },
    {
     "name": "stderr",
     "output_type": "stream",
     "text": [
      "\n"
     ]
    }
   ],
   "source": [
    "if not RUN_ONCE_ALREADY:\n",
    "    tokenizer = AutoTokenizer.from_pretrained(\n",
    "        \"sharpbai/alpaca-7b-merged\",\n",
    "        cache_dir=\"../.cache_dir/\"\n",
    "    )\n",
    "    model = AutoModelForCausalLM.from_pretrained(\n",
    "        \"sharpbai/alpaca-7b-merged\",\n",
    "        cache_dir=\"../.cache_dir/\",\n",
    "        torch_dtype=torch.bfloat16\n",
    "    )\n",
    "    _ = model.to(\"cuda\")\n",
    "\n",
    "    raw_prealign = factual_sampler(\n",
    "        tokenizer,\n",
    "        5000,\n",
    "        game=\"pricing_tag\"\n",
    "    )\n",
    "    prealign_dataset = Dataset.from_dict(\n",
    "        {\n",
    "            \"input_ids\": raw_prealign[0], \n",
    "            \"labels\": raw_prealign[1],\n",
    "        }\n",
    "    ).with_format(\"torch\")\n",
    "    prealign_dataloader = DataLoader(\n",
    "        prealign_dataset, batch_size=8\n",
    "    )\n",
    "\n",
    "    total_count = 0\n",
    "    correct_count = 0\n",
    "    model.eval()\n",
    "    with torch.no_grad():\n",
    "        for step, inputs in enumerate(tqdm(prealign_dataloader)):\n",
    "            for k, v in inputs.items():\n",
    "                if v is not None and isinstance(v, torch.Tensor):\n",
    "                    inputs[k] = v.to(model.device)\n",
    "\n",
    "            # aligning forward!\n",
    "            outputs = model(\n",
    "                input_ids=inputs['input_ids'],\n",
    "                labels=inputs['labels'],\n",
    "            )\n",
    "\n",
    "            actual_test_labels = inputs['labels'][:, -1]\n",
    "            pred_test_labels = torch.argmax(outputs.logits[:, -1], dim=-1)\n",
    "\n",
    "            correct_labels = (actual_test_labels==pred_test_labels)\n",
    "\n",
    "            total_count += len(correct_labels)\n",
    "            correct_count += correct_labels.sum().tolist()\n",
    "    current_acc = round(correct_count/total_count, 2)\n",
    "    print(f\"[WARNING: THIS NEEDS TO BE GOOD!] prealign task accuracy: {current_acc}\")\n",
    "    \n",
    "    # Now, we save this model to a separate folder for the alignment script to load. \n",
    "    # If you have your own model with your own dataset, you can follow the rest of \n",
    "    # steps here to create a DAS config file.\n",
    "    tokenizer.save_pretrained(\"../alpaca_7b/\")\n",
    "    model.save_pretrained(\"../alpaca_7b/\")\n",
    "\n",
    "    # we create a alignment config here. you want to change to your settings later on.\n",
    "    das_config = AlignableLlamaConfig()\n",
    "    das_config.save_pretrained(\"../alpaca_7b/das_config\")"
   ]
  },
  {
   "cell_type": "markdown",
   "id": "8e7bd5c6",
   "metadata": {},
   "source": [
    "**===== STOP HERE AND READ =====**\n",
    "\n",
    "Now, you have the model to align! And if your code above run without an error, it probably means you have all the env stuff set up. Great! So, ...\n",
    "\n",
    "If your purpose is to run alignment script in a separate process, please read the `run_alignment.py` and you can close this notebook now. If you want to see example code about how to load alignable model, how to run trainer in a notebook, you can continue to read this notebook. We recommend you run the `*py` script, and the notebook is more like a playground instead.\n",
    "\n",
    "**===== STOP HERE AND READ =====**"
   ]
  },
  {
   "cell_type": "markdown",
   "id": "c76a697e",
   "metadata": {},
   "source": [
    "#### Step 2: Reproducing One Boundless DAS Result from Our Paper"
   ]
  },
  {
   "cell_type": "code",
   "execution_count": 2,
   "id": "a8591674",
   "metadata": {},
   "outputs": [
    {
     "name": "stderr",
     "output_type": "stream",
     "text": [
      "loading file tokenizer.model\n",
      "loading file tokenizer.json\n",
      "loading file added_tokens.json\n",
      "loading file special_tokens_map.json\n",
      "loading file tokenizer_config.json\n"
     ]
    }
   ],
   "source": [
    "set_seed(42)\n",
    "\n",
    "###################\n",
    "# data loaders\n",
    "###################\n",
    "tokenizer = AutoTokenizer.from_pretrained(\n",
    "    pretrained_model_name_or_path=\"../alpaca_7b/\",\n",
    "    cache_dir=CACHE_DIR\n",
    ")\n",
    "\n",
    "raw_data = bound_alignment_sampler(\n",
    "    tokenizer,\n",
    "    10000,\n",
    "    [lower_bound_alignment_example_sampler]\n",
    ")\n",
    "\n",
    "raw_train = (\n",
    "    raw_data[0][:8000], \n",
    "    raw_data[1][:8000], \n",
    "    raw_data[2][:8000],\n",
    "    raw_data[3][:8000]\n",
    ")\n",
    "raw_eval = (\n",
    "    raw_data[0][8000:9000], \n",
    "    raw_data[1][8000:9000], \n",
    "    raw_data[2][8000:9000],\n",
    "    raw_data[3][8000:9000]\n",
    ")\n",
    "raw_test = (\n",
    "    raw_data[0][9000:], \n",
    "    raw_data[1][9000:], \n",
    "    raw_data[2][9000:],\n",
    "    raw_data[3][9000:]\n",
    ")\n",
    "train_dataset = Dataset.from_dict(\n",
    "    {\n",
    "        \"input_ids\": raw_train[0], \n",
    "        \"source_input_ids\": raw_train[1],\n",
    "        \"labels\": raw_train[2],\n",
    "        \"intervention_ids\": raw_train[3],\n",
    "    }\n",
    ").with_format(\"torch\")\n",
    "train_dataloader = DataLoader(\n",
    "    train_dataset, batch_size=16,\n",
    ")\n",
    "eval_dataset = Dataset.from_dict(\n",
    "    {\n",
    "        \"input_ids\": raw_eval[0], \n",
    "        \"source_input_ids\": raw_eval[1],\n",
    "        \"labels\": raw_eval[2],\n",
    "        \"intervention_ids\": raw_eval[3],\n",
    "    }\n",
    ").with_format(\"torch\")\n",
    "eval_dataloader = DataLoader(\n",
    "    eval_dataset, batch_size=16,\n",
    ")\n",
    "test_dataset = Dataset.from_dict(\n",
    "    {\n",
    "        \"input_ids\": raw_test[0], \n",
    "        \"source_input_ids\": raw_test[1],\n",
    "        \"labels\": raw_test[2],\n",
    "        \"intervention_ids\": raw_test[3],\n",
    "    }\n",
    ").with_format(\"torch\")\n",
    "test_dataloader = DataLoader(\n",
    "    test_dataset, batch_size=16,\n",
    ")"
   ]
  },
  {
   "cell_type": "markdown",
   "id": "144f1eb2",
   "metadata": {},
   "source": [
    "First important check: since we randomly sample training data, although very unlikely due to the probability constraints from random combination of three numbers with 2 decimal points, we can check how many unique inputs we have during training, testing and eval."
   ]
  },
  {
   "cell_type": "code",
   "execution_count": 3,
   "id": "7a92bd30",
   "metadata": {},
   "outputs": [
    {
     "data": {
      "text/plain": [
       "8000"
      ]
     },
     "execution_count": 3,
     "metadata": {},
     "output_type": "execute_result"
    }
   ],
   "source": [
    "unique_train = set([tuple(e) for e in raw_train[0]])\n",
    "len(unique_train)"
   ]
  },
  {
   "cell_type": "code",
   "execution_count": 4,
   "id": "ed637e70",
   "metadata": {},
   "outputs": [
    {
     "data": {
      "text/plain": [
       "10000"
      ]
     },
     "execution_count": 4,
     "metadata": {},
     "output_type": "execute_result"
    }
   ],
   "source": [
    "unique_all = set([tuple(e) for e in raw_train[0]] + [tuple(e) for e in raw_eval[0]] + [tuple(e) for e in raw_test[0]])\n",
    "len(unique_all)"
   ]
  },
  {
   "cell_type": "markdown",
   "id": "ba316528",
   "metadata": {},
   "source": [
    "Now, we are ready to align with this very simple dataset! Let's load back our model but with the alignable model architecture created by us.\n",
    "\n",
    "**Very Important**: If you want to load the model as `torch.bfloat16`, you are required to **replace** two torch files under your torch folder of the current running conda environment.\n",
    "\n",
    "To do this, a very hacky way is to first run the following script, and look at the place where the error is thrown. That is the place of the files you want to replace. With this, you can modify the following two bash command to replace your files. We have not fully tested this, but it seems like our replacing files are also compatible with torch 3.9."
   ]
  },
  {
   "cell_type": "code",
   "execution_count": 8,
   "id": "5d02f61e",
   "metadata": {},
   "outputs": [],
   "source": [
    "#########################################\n",
    "# DO NOT RUN UNLESS YOU READ LINES ABOVE\n",
    "!cp ./torch3.8_overwrite/init.py /opt/conda/envs/BoundlessDAS/lib/python3.9/site-packages/torch/nn/\n",
    "!cp ./torch3.8_overwrite/parametrizations.py /opt/conda/envs/BoundlessDAS/lib/python3.9/site-packages/torch/nn/utils/\n",
    "#########################################"
   ]
  },
  {
   "cell_type": "markdown",
   "id": "748b87aa",
   "metadata": {},
   "source": [
    "Load the alignable model and others; then, create the aligner"
   ]
  },
  {
   "cell_type": "code",
   "execution_count": null,
   "id": "915db602",
   "metadata": {},
   "outputs": [],
   "source": [
    "das_config = AlignableLlamaConfig.from_pretrained(\n",
    "    os.path.join(\"../alpaca_7b/\", \"das_config\")\n",
    ")\n",
    "alignment_config = {\n",
    "    'layer': das_config.das_layer,\n",
    "    \"token_range\" : [\n",
    "        das_config.das_token_range[0], \n",
    "        das_config.das_token_range[1], \n",
    "    ]\n",
    "}\n",
    "model = AutoAlignableModel.from_pretrained(\n",
    "    \"../alpaca_7b/\",\n",
    "    alignment_config=alignment_config,\n",
    "    torch_dtype=torch.bfloat16,\n",
    "    cache_dir=CACHE_DIR\n",
    ")\n",
    "_ = model.to(\"cuda\") # first GPU\n",
    "\n",
    "# set off the gradients among all other layers.\n",
    "for name, param in model.named_parameters():\n",
    "    if \"rotate_layer\" not in name and \"intervention_boundaries\" not in name:\n",
    "        param.requires_grad = False\n",
    "    else:\n",
    "        logger.info(f\"Requiring gradients on layer: {name}\")\n",
    "t_total = int(len(train_dataloader) * 3)\n",
    "warm_up_steps = 0.1 * t_total\n",
    "optimizer = torch.optim.Adam(\n",
    "    [{'params': model.model.rotate_layer.parameters()},\n",
    "    {'params': model.model.intervention_boundaries, 'lr': 1e-2}],\n",
    "    lr=1e-3\n",
    ")\n",
    "scheduler = get_linear_schedule_with_warmup(\n",
    "    optimizer, num_warmup_steps=warm_up_steps,\n",
    "    num_training_steps=t_total\n",
    ")\n",
    "# You can define your custom compute_metrics function.\n",
    "def compute_metrics(eval_preds, eval_labels):\n",
    "    total_count = 0\n",
    "    correct_count = 0\n",
    "    for eval_pred, eval_label in zip(eval_preds, eval_labels):\n",
    "        actual_test_labels = eval_label[:, -1]\n",
    "        pred_test_labels = torch.argmax(eval_pred[:, -1], dim=-1)\n",
    "        correct_labels = (actual_test_labels==pred_test_labels)\n",
    "        total_count += len(correct_labels)\n",
    "        correct_count += correct_labels.sum().tolist()\n",
    "    accuracy = round(correct_count/total_count, 2)\n",
    "    return {\"accuracy\" : accuracy}\n",
    "\n",
    "model_type = AutoConfig.from_pretrained(\n",
    "    \"../alpaca_7b/\"\n",
    ").architectures[0]\n",
    "\n",
    "run_name = f\"{model_type}.task.pricing_tag_lb.\"\\\n",
    "           f\"seed.42.intl.{alignment_config['layer']}.intr.{alignment_config['token_range'][0]}.\"\\\n",
    "           f\"{alignment_config['token_range'][1]}\"\n",
    "if not os.path.exists(\"./results_tmp/\"):\n",
    "    os.mkdir(\"./results_tmp/\")\n",
    "os.environ[\"WANDB_PROJECT\"] = f\"Boundless-DAS\"\n",
    "output_dir = os.path.join(\"./results_tmp/\", run_name)\n",
    "if not os.path.exists(output_dir):\n",
    "    os.mkdir(output_dir)\n",
    "    \n",
    "aligner = Aligner(\n",
    "    model,\n",
    "    logger=logger,\n",
    "    is_wandb=False,\n",
    "    is_master=True,\n",
    "    n_gpu=1,\n",
    "    model_name=run_name,\n",
    "    device=\"cuda\",\n",
    "    compute_metrics=compute_metrics\n",
    ")"
   ]
  },
  {
   "cell_type": "markdown",
   "id": "c9b29656",
   "metadata": {},
   "source": [
    "Train Boundless DAS\n",
    "\n",
    "**Note that this is a simplied setting of what we've used in the paper to make the tutorial easier to follow.** The expectation is that, after the training is finished, we want to find an alignment of lower bound check within the Alpaca model. \n",
    "\n",
    "**Note that it is okay if the loss is go below zero!** since we optimize for smaller intervention site which could go below zero since we optimize for smaller loss."
   ]
  },
  {
   "cell_type": "code",
   "execution_count": 11,
   "id": "34d089af",
   "metadata": {},
   "outputs": [
    {
     "name": "stderr",
     "output_type": "stream",
     "text": [
      "Epoch: 0: 100%|████████████████████████████████████████████████████████████████████████████████████████████████████████████████████| 500/500 [07:54<00:00,  1.05it/s, loss=1.46]\n",
      "Epoch: 1: 100%|████████████████████████████████████████████████████████████████████████████████████████████████████████████████████| 500/500 [08:26<00:00,  1.01s/it, loss=-.09]\n",
      "Epoch: 2: 100%|███████████████████████████████████████████████████████████████████████████████████████████████████████████████████| 500/500 [08:27<00:00,  1.01s/it, loss=-1.03]\n",
      "Epoch: 100%|█████████████████████████████████████████████████████████████████████████████████████████████████████████████████████████████████████| 3/3 [24:48<00:00, 496.13s/it]\n",
      "Training is finished ...\n"
     ]
    }
   ],
   "source": [
    "aligner.train(\n",
    "    train_dataloader, \n",
    "    eval_dataloader, \n",
    "    test_dataloader,\n",
    "    optimizer, scheduler, \n",
    "    log_step=10, \n",
    "    valid_steps=500,\n",
    "    output_dir=output_dir, \n",
    "    epochs=3, \n",
    "    gradient_accumulation_steps=4,\n",
    ")"
   ]
  },
  {
   "cell_type": "markdown",
   "id": "13f0367c",
   "metadata": {},
   "source": [
    "#### Step 3: Analyzing Results\n",
    "\n",
    "We load the best rotation matrix saved in disk."
   ]
  },
  {
   "cell_type": "code",
   "execution_count": 19,
   "id": "cec085d0",
   "metadata": {},
   "outputs": [],
   "source": [
    "checkpoint_state_dict = torch.load(\n",
    "    f\"./results_tmp/LlamaForCausalLM.task.pricing_tag_lb.seed.42.intl.15.intr.80.81/pytorch-rotate-best.bin\"\n",
    ")"
   ]
  },
  {
   "cell_type": "markdown",
   "id": "7790e05d",
   "metadata": {},
   "source": [
    "Let's look at what does this file contain."
   ]
  },
  {
   "cell_type": "code",
   "execution_count": 20,
   "id": "71f3bfbb",
   "metadata": {},
   "outputs": [
    {
     "data": {
      "text/plain": [
       "{'rotate_layer': OrderedDict([('parametrizations.weight.original',\n",
       "               tensor([[ 0.0070, -0.0118,  0.0208,  ...,  0.0044,  0.0110,  0.0047],\n",
       "                       [-0.0074, -0.0139, -0.0033,  ...,  0.0156,  0.0061, -0.0041],\n",
       "                       [-0.0008,  0.0042,  0.0070,  ...,  0.0238,  0.0288, -0.0210],\n",
       "                       ...,\n",
       "                       [-0.0130, -0.0192, -0.0074,  ..., -0.0121,  0.0091, -0.0216],\n",
       "                       [ 0.0337, -0.0045,  0.0143,  ...,  0.0008, -0.0273,  0.0261],\n",
       "                       [-0.0168,  0.0146, -0.0071,  ...,  0.0160,  0.0156, -0.0077]],\n",
       "                      device='cuda:0', dtype=torch.bfloat16))]),\n",
       " 'intervention_boundaries': Parameter containing:\n",
       " tensor([ 0.1177, -0.6562], device='cuda:0', dtype=torch.bfloat16,\n",
       "        requires_grad=True),\n",
       " 'temperature': Parameter containing:\n",
       " tensor(16.8750, dtype=torch.bfloat16)}"
      ]
     },
     "execution_count": 20,
     "metadata": {},
     "output_type": "execute_result"
    }
   ],
   "source": [
    "checkpoint_state_dict"
   ]
  },
  {
   "cell_type": "markdown",
   "id": "4d1a4c51",
   "metadata": {},
   "source": [
    "Besides the rotation matrix, you can also see the intervention boundaries (in percentage) which marks the best setting for intervention accuracy. It is worth to note that this is boundary with the best evaluation metrics, not the lowest it can go in terms of maintaining a fairly good evaluation metrics. There is a subtle distinct here :)."
   ]
  },
  {
   "cell_type": "code",
   "execution_count": 21,
   "id": "572e2cfa",
   "metadata": {},
   "outputs": [],
   "source": [
    "checkpoint_state_dict = torch.load(\n",
    "    f\"./results_tmp/LlamaForCausalLM.task.pricing_tag_lb.seed.42.intl.15.intr.80.81/pytorch-rotate-last.bin\"\n",
    ")"
   ]
  },
  {
   "cell_type": "code",
   "execution_count": 22,
   "id": "6e191e44",
   "metadata": {},
   "outputs": [
    {
     "data": {
      "text/plain": [
       "{'rotate_layer': OrderedDict([('parametrizations.weight.original',\n",
       "               tensor([[ 0.0070, -0.0118,  0.0208,  ...,  0.0044,  0.0110,  0.0047],\n",
       "                       [-0.0149, -0.0139, -0.0033,  ...,  0.0156,  0.0061, -0.0041],\n",
       "                       [-0.0039,  0.0037,  0.0070,  ...,  0.0238,  0.0288, -0.0210],\n",
       "                       ...,\n",
       "                       [-0.0087, -0.0134,  0.0008,  ..., -0.0121,  0.0091, -0.0216],\n",
       "                       [ 0.0327, -0.0143,  0.0172,  ..., -0.0013, -0.0273,  0.0261],\n",
       "                       [-0.0171,  0.0106, -0.0172,  ...,  0.0198,  0.0132, -0.0077]],\n",
       "                      device='cuda:0', dtype=torch.bfloat16))]),\n",
       " 'intervention_boundaries': Parameter containing:\n",
       " tensor([ 0.1069, -1.6328], device='cuda:0', dtype=torch.bfloat16,\n",
       "        requires_grad=True),\n",
       " 'temperature': Parameter containing:\n",
       " tensor(0.2002, dtype=torch.bfloat16)}"
      ]
     },
     "execution_count": 22,
     "metadata": {},
     "output_type": "execute_result"
    }
   ],
   "source": [
    "checkpoint_state_dict"
   ]
  },
  {
   "cell_type": "markdown",
   "id": "8520f4b6",
   "metadata": {},
   "source": [
    "The last rotation matrix is with slightly smaller site, but the temperature is much lower. As a result, the learned boundary is very sharp here.\n",
    "\n",
    "**Note that in the current paper, we report the best rotation matrix not the last one!** This creates an ambiguity in terms of intervention since it means the intervention can be **soft**. But the **Softness** can give nice properties, which is left to you to think about!\n",
    "\n",
    "Let's visualize both boundaries!"
   ]
  },
  {
   "cell_type": "code",
   "execution_count": 25,
   "id": "acd0e1d5",
   "metadata": {},
   "outputs": [
    {
     "data": {
      "text/plain": [
       "<Axes: >"
      ]
     },
     "execution_count": 25,
     "metadata": {},
     "output_type": "execute_result"
    },
    {
     "data": {
      "image/png": "[encoded data removed]",
      "text/plain": [
       "<Figure size 500x300 with 1 Axes>"
      ]
     },
     "metadata": {},
     "output_type": "display_data"
    }
   ],
   "source": [
    "def sigmoid_boundary_sigmoid(_input, boundary_x, boundary_y, temperature):\n",
    "    return torch.sigmoid((_input - boundary_x) / temperature) * \\\n",
    "        torch.sigmoid((boundary_y - _input) / temperature)\n",
    "sns.set(rc={'figure.figsize':(5, 3)})\n",
    "sns.lineplot(\n",
    "    x=torch.arange(0, 4096), \n",
    "    y=sigmoid_boundary_sigmoid(torch.arange(0, 4096), 0, 4096*0.1177, 16.8750),\n",
    "    label='best'\n",
    ")\n",
    "sns.lineplot(\n",
    "    x=torch.arange(0, 4096), \n",
    "    y=sigmoid_boundary_sigmoid(torch.arange(0, 4096), 0, 4096*0.1069, 0.2002),\n",
    "    label='last'\n",
    ")"
   ]
  },
  {
   "cell_type": "markdown",
   "id": "fdae62da",
   "metadata": {},
   "source": [
    "The above is the learned boundary! **Essentially, this is a low pass filter on the hidden representation.**"
   ]
  },
  {
   "cell_type": "markdown",
   "id": "c01f7588",
   "metadata": {},
   "source": [
    "Now, with this rotation matrix, and learned intervention boundary, we can finally start to **steer** LLM's behavior following our aligned causal variables - the lower bound check!\n",
    "\n",
    "Instead of loading the best rotation matrix, we are using the last one to verify."
   ]
  },
  {
   "cell_type": "code",
   "execution_count": 26,
   "id": "6af524bf",
   "metadata": {},
   "outputs": [],
   "source": [
    "base_input = f\"\"\"Below is an instruction that describes a task, paired with an input that provides further context. Write a response that appropriately completes the request.\n",
    "\n",
    "### Instruction:\n",
    "Please say yes only if it costs between 3.49 and 8.49 dollars, otherwise no.\n",
    "\n",
    "### Input:\n",
    "1.50 dollars\n",
    "\n",
    "### Response:\n",
    "\"\"\""
   ]
  },
  {
   "cell_type": "markdown",
   "id": "64e723ae",
   "metadata": {},
   "source": [
    "The output of this input should be **No** since **1.50 <= 3.49**. Let's check Alpaca's output."
   ]
  },
  {
   "cell_type": "code",
   "execution_count": 27,
   "id": "08b3271c",
   "metadata": {},
   "outputs": [
    {
     "name": "stdout",
     "output_type": "stream",
     "text": [
      "afc label = No (20.75/21.125) ; pred label = No\n"
     ]
    }
   ],
   "source": [
    "input_ids = tokenizer(base_input, return_tensors=\"pt\").input_ids.to(\"cuda\")\n",
    "attention_mask = tokenizer(base_input, return_tensors=\"pt\").attention_mask.to(\"cuda\")\n",
    "model.eval()\n",
    "outputs = model(\n",
    "    input_ids,\n",
    "    attention_mask=attention_mask\n",
    ")\n",
    "pred_labels = torch.argmax(outputs.logits[:, -1], dim=-1)\n",
    "generated_tokens = tokenizer.decode(pred_labels[0])\n",
    "\n",
    "afc_1 = tokenizer.convert_tokens_to_ids(\"Yes\")\n",
    "afc_2 = tokenizer.convert_tokens_to_ids(\"No\")\n",
    "afc_1_prob = outputs.logits[:, -1][0][afc_1]\n",
    "afc_2_prob = outputs.logits[:, -1][0][afc_2]\n",
    "if afc_1_prob > afc_2_prob:\n",
    "    afc = \"Yes\"\n",
    "else:\n",
    "    afc = \"No\"\n",
    "print(f\"afc label = {afc} ({afc_1_prob}/{afc_2_prob}) ; pred label = {generated_tokens}\")"
   ]
  },
  {
   "cell_type": "markdown",
   "id": "9647e57e",
   "metadata": {},
   "source": [
    "Now, let's intervene it to let the model to output **Yes** with our learned rotation matrix. \n",
    "\n",
    "The issue with **1.50** is that it is below the lower bound. So, we simply need another example that is above the lower bound. Let's take this one."
   ]
  },
  {
   "cell_type": "code",
   "execution_count": 28,
   "id": "b22d1f99",
   "metadata": {},
   "outputs": [],
   "source": [
    "source_input = f\"\"\"Below is an instruction that describes a task, paired with an input that provides further context. Write a response that appropriately completes the request.\n",
    "\n",
    "### Instruction:\n",
    "Please say yes only if it costs between 2.51 and 7.51 dollars, otherwise no.\n",
    "\n",
    "### Input:\n",
    "9.49 dollars\n",
    "\n",
    "### Response:\n",
    "\"\"\"\n",
    "input_ids = tokenizer(source_input, return_tensors=\"pt\").input_ids.to(\"cuda\")\n",
    "attention_mask = tokenizer(source_input, return_tensors=\"pt\").attention_mask.to(\"cuda\")\n",
    "model.eval()\n",
    "outputs = model(\n",
    "    input_ids,\n",
    "    attention_mask=attention_mask,\n",
    ")\n",
    "pred_labels = torch.argmax(outputs.logits[:, -1], dim=-1)\n",
    "generated_tokens = tokenizer.decode(pred_labels[0])\n",
    "\n",
    "afc_1 = tokenizer.convert_tokens_to_ids(\"Yes\")\n",
    "afc_2 = tokenizer.convert_tokens_to_ids(\"No\")\n",
    "afc_1_prob = outputs.logits[:, -1][0][afc_1]\n",
    "afc_2_prob = outputs.logits[:, -1][0][afc_2]\n",
    "if afc_1_prob > afc_2_prob:\n",
    "    afc = \"Yes\"\n",
    "else:\n",
    "    afc = \"No\"\n",
    "print(f\"afc label = {afc} ({afc_1_prob}/{afc_2_prob}) ; pred label = {generated_tokens}\")"
   ]
  },
  {
   "cell_type": "markdown",
   "id": "3412c773",
   "metadata": {},
   "source": [
    "This should output **No** as well since **9.49** is above both bounds! Now, since we aligned the lower bound check, we should be able to intervene the first example (lower bound check = False) with hidden states from the second example (lower bound check = True) representing the lower bound check. **As a result, we should be able to flip the output label.**"
   ]
  },
  {
   "cell_type": "code",
   "execution_count": 35,
   "id": "73754dc9",
   "metadata": {},
   "outputs": [
    {
     "name": "stdout",
     "output_type": "stream",
     "text": [
      "afc label = Yes (21.375/20.25) ; pred label = Yes\n"
     ]
    }
   ],
   "source": [
    "source_hidden_states = model(\n",
    "    input_ids=tokenizer(source_input, return_tensors=\"pt\").input_ids.to(\"cuda\"),\n",
    "    output_rotated_hidden_states_only=True\n",
    ").rotated_hidden_states\n",
    "outputs = model(\n",
    "    input_ids=tokenizer(base_input, return_tensors=\"pt\").input_ids.to(\"cuda\"),\n",
    "    source_hidden_states=source_hidden_states,\n",
    "    intervention_ids=torch.tensor([0]).to(\"cuda\"),\n",
    ")\n",
    "pred_labels = torch.argmax(outputs.logits[:, -1], dim=-1)\n",
    "generated_tokens = tokenizer.decode(pred_labels[0])\n",
    "\n",
    "afc_1 = tokenizer.convert_tokens_to_ids(\"Yes\")\n",
    "afc_2 = tokenizer.convert_tokens_to_ids(\"No\")\n",
    "afc_1_prob = outputs.logits[:, -1][0][afc_1]\n",
    "afc_2_prob = outputs.logits[:, -1][0][afc_2]\n",
    "if afc_1_prob > afc_2_prob:\n",
    "    afc = \"Yes\"\n",
    "else:\n",
    "    afc = \"No\"\n",
    "print(f\"afc label = {afc} ({afc_1_prob}/{afc_2_prob}) ; pred label = {generated_tokens}\")"
   ]
  },
  {
   "cell_type": "markdown",
   "id": "e113a840",
   "metadata": {},
   "source": [
    "**Yay! We successfully flip the label!** Within our paper, we should more experiments and have robustness checks. You can refer there for additional information if you ever doubt the result."
   ]
  },
  {
   "cell_type": "markdown",
   "id": "bfce70c9",
   "metadata": {},
   "source": [
    "#### Step 4: Sharing Rotation Matrix and Alignment Config\n",
    "\n",
    "A **very promising future** of representation-based alignment search is **federated model steering** and **community sharing**! Let me elabrate them a little further, and with a specific example (i.e., sharing the lower bound boolean alignment through huggingface).\n",
    "\n",
    "- **federated model steering:** we all know prompts can steer model behaviors. However, prompt steering is not federated (i.e., users can steer the model into a harmful mode through prompt hacking). With intervention and representation-based alignment, we can control model representations through the causal lens and steer the model to behave in certain ways (e.g., anchoring the lower bound check to be always returing TRUE).\n",
    "\n",
    "- **community sharing:** the rotation matrix and learned boundary learned with boundless DAS can be shared through huggingface easily. This means, given a LLM, the community can do alignment and share meaningful alignment simply with the alignment config and learned roation matrix! This is just like sharing the prompt. Imagine a world where people find the alignment for gender. Then, we can do federated model steering!"
   ]
  },
  {
   "cell_type": "code",
   "execution_count": 4,
   "id": "dd2cd7fa",
   "metadata": {},
   "outputs": [],
   "source": [
    "from huggingface_hub import notebook_login\n",
    "from huggingface_hub import HfApi\n",
    "notebook_login()"
   ]
  },
  {
   "cell_type": "markdown",
   "id": "4c2348b2",
   "metadata": {},
   "source": [
    "sharing the rotation matrix"
   ]
  },
  {
   "cell_type": "code",
   "execution_count": null,
   "id": "5eccf61b",
   "metadata": {},
   "outputs": [],
   "source": [
    "api = HfApi()\n",
    "api.upload_file(\n",
    "    path_or_fileobj=\"./results_tmp/LlamaForCausalLM.task.pricing_tag_lb.seed.42.intl.15.intr.80.81/pytorch-rotate-best.bin\",\n",
    "    path_in_repo=\"pytorch-rotate-best.bin\",\n",
    "    repo_id=\"zhengxuanzenwu/alpaca-price-tagging-lower-bound\",\n",
    "    repo_type=\"model\",\n",
    ")"
   ]
  },
  {
   "cell_type": "markdown",
   "id": "da6048e0",
   "metadata": {},
   "source": [
    "sharing the alignment config (layer and token position)"
   ]
  },
  {
   "cell_type": "code",
   "execution_count": null,
   "id": "ac9ed023",
   "metadata": {},
   "outputs": [],
   "source": [
    "api.upload_file(\n",
    "    path_or_fileobj=\"../alpaca_7b/das_config/config.json\",\n",
    "    path_in_repo=\"config.json\",\n",
    "    repo_id=\"zhengxuanzenwu/alpaca-price-tagging-lower-bound\",\n",
    "    repo_type=\"model\",\n",
    ")"
   ]
  },
  {
   "cell_type": "markdown",
   "id": "230b9c16",
   "metadata": {},
   "source": [
    "You can find the rotation matrix and alignment config for this file here:   \n",
    "https://huggingface.co/zhengxuanzenwu/alpaca-price-tagging-lower-bound/tree/main\n",
    "\n",
    "You can download using huggingface API by following examples here:   \n",
    "https://huggingface.co/docs/huggingface_hub/guides/download"
   ]
  },
  {
   "cell_type": "markdown",
   "id": "45cb6e1e",
   "metadata": {},
   "source": [
    "**Thank you** for your attention! If you like this tutorial, feel free to build on it, and share it with others!"
   ]
  }
 ],
 "metadata": {
  "kernelspec": {
   "display_name": "Python 3 (ipykernel)",
   "language": "python",
   "name": "python3"
  },
  "language_info": {
   "codemirror_mode": {
    "name": "ipython",
    "version": 3
   },
   "file_extension": ".py",
   "mimetype": "text/x-python",
   "name": "python",
   "nbconvert_exporter": "python",
   "pygments_lexer": "ipython3",
   "version": "3.9.0"
  }
 },
 "nbformat": 4,
 "nbformat_minor": 5
}
