{
 "cells": [
  {
   "cell_type": "markdown",
   "id": "d319dc87",
   "metadata": {},
   "source": [
    "## Tutorial\n",
    "\n",
    "This tutorial will go through a slightly harder reasoning problem with arithmetic instead of boolean valued operators. We will train a model, and analyze its causal abstraction.\n",
    "\n",
    "Last update: `08/10/2023`"
   ]
  },
  {
   "cell_type": "code",
   "execution_count": null,
   "id": "c44d0e72",
   "metadata": {},
   "outputs": [],
   "source": []
  }
 ],
 "metadata": {
  "kernelspec": {
   "display_name": "Python 3 (ipykernel)",
   "language": "python",
   "name": "python3"
  },
  "language_info": {
   "codemirror_mode": {
    "name": "ipython",
    "version": 3
   },
   "file_extension": ".py",
   "mimetype": "text/x-python",
   "name": "python",
   "nbconvert_exporter": "python",
   "pygments_lexer": "ipython3",
   "version": "3.9.0"
  }
 },
 "nbformat": 4,
 "nbformat_minor": 5
}
